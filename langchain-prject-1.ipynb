{
 "cells": [
  {
   "cell_type": "code",
   "execution_count": 1,
   "id": "a28345a6",
   "metadata": {},
   "outputs": [],
   "source": [
    "from secret_key import openapi_key\n",
    "import os\n",
    "os.environ[\"OPENAI_API_KEY\"] = openapi_key\n"
   ]
  },
  {
   "cell_type": "code",
   "execution_count": 2,
   "id": "93e23f9d",
   "metadata": {},
   "outputs": [
    {
     "name": "stderr",
     "output_type": "stream",
     "text": [
      "/var/folders/_p/8sqt2t7d4yd_mlj6jnk5nvm40000gn/T/ipykernel_69616/1797397971.py:3: LangChainDeprecationWarning: The class `OpenAI` was deprecated in LangChain 0.0.10 and will be removed in 1.0. An updated version of the class exists in the :class:`~langchain-openai package and should be used instead. To use it run `pip install -U :class:`~langchain-openai` and import as `from :class:`~langchain_openai import OpenAI``.\n",
      "  llm = OpenAI(temperature=0.7)\n",
      "/var/folders/_p/8sqt2t7d4yd_mlj6jnk5nvm40000gn/T/ipykernel_69616/1797397971.py:4: LangChainDeprecationWarning: The method `BaseLLM.__call__` was deprecated in langchain-core 0.1.7 and will be removed in 1.0. Use :meth:`~invoke` instead.\n",
      "  query = llm(\"What is the easiest way to make an omelette?\")\n"
     ]
    },
    {
     "name": "stdout",
     "output_type": "stream",
     "text": [
      "\n",
      "\n",
      "1. Crack and beat eggs: In a bowl, crack the desired number of eggs and beat them with a fork until they are well combined.\n",
      "\n",
      "2. Heat a non-stick pan: Place a non-stick pan on medium heat and let it warm up for a few minutes.\n",
      "\n",
      "3. Add butter or oil: Once the pan is hot, add a pat of butter or a drizzle of oil and let it melt.\n",
      "\n",
      "4. Pour in beaten eggs: Pour the beaten eggs into the pan and let it spread evenly.\n",
      "\n",
      "5. Add fillings: Once the edges of the omelette are set, add any desired fillings such as shredded cheese, diced vegetables, or diced meat.\n",
      "\n",
      "6. Fold the omelette: Using a spatula, gently fold one side of the omelette over the fillings, creating a half-moon shape.\n",
      "\n",
      "7. Cook for a few more minutes: Let the omelette cook for another minute or two until the fillings are heated through and the eggs are fully cooked.\n",
      "\n",
      "8. Slide onto a plate: Using the spatula, slide the omelette onto a plate and serve hot.\n",
      "\n",
      "9. Optional: You can also add toppings such as salsa, sour cream, or herbs for extra flavor. \n"
     ]
    }
   ],
   "source": [
    "from langchain.llms import OpenAI\n",
    "\n",
    "llm = OpenAI(temperature=0.7)\n",
    "query = llm(\"What is the easiest way to make an omelette?\")\n",
    "\n",
    "print(query)"
   ]
  },
  {
   "cell_type": "code",
   "execution_count": null,
   "id": "b289a927",
   "metadata": {},
   "outputs": [],
   "source": []
  }
 ],
 "metadata": {
  "kernelspec": {
   "display_name": ".venv",
   "language": "python",
   "name": "python3"
  },
  "language_info": {
   "codemirror_mode": {
    "name": "ipython",
    "version": 3
   },
   "file_extension": ".py",
   "mimetype": "text/x-python",
   "name": "python",
   "nbconvert_exporter": "python",
   "pygments_lexer": "ipython3",
   "version": "3.13.7"
  }
 },
 "nbformat": 4,
 "nbformat_minor": 5
}
